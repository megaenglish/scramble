{
 "cells": [
  {
   "cell_type": "markdown",
   "id": "fbd410db",
   "metadata": {},
   "source": [
    "1.  Create Core\n",
    "2.  Create UI/UX\n",
    "3.  "
   ]
  },
  {
   "cell_type": "code",
   "execution_count": 3,
   "id": "2ac589ad",
   "metadata": {},
   "outputs": [
    {
     "name": "stdout",
     "output_type": "stream",
     "text": [
      "rihselnpioat\n",
      "What is this word? relatiohhs\n",
      "You lose\n"
     ]
    }
   ],
   "source": [
    "import numpy\n",
    "import random\n",
    "# Unit 1: Elementary\n",
    "\n",
    "word_list = [\"photographer\", \"journalist\", \"explorer\", \"filmmaker\", \"job\", \"occupation\", \"married\", \"single\", \"relationship\", \"wife\"]\n",
    "word = random.choice(word_list)\n",
    "scrambled_word = ''.join(random.sample(word,len(word)))\n",
    "\n",
    "print(scrambled_word)\n",
    "answer = input(\"What is this word? \")\n",
    "\n",
    "if answer == word:\n",
    "    print(\"You win\")\n",
    "else:\n",
    "    print(\"You lose\")"
   ]
  },
  {
   "cell_type": "code",
   "execution_count": null,
   "id": "4c73e46e",
   "metadata": {},
   "outputs": [],
   "source": []
  }
 ],
 "metadata": {
  "kernelspec": {
   "display_name": "Python 3 (ipykernel)",
   "language": "python",
   "name": "python3"
  },
  "language_info": {
   "codemirror_mode": {
    "name": "ipython",
    "version": 3
   },
   "file_extension": ".py",
   "mimetype": "text/x-python",
   "name": "python",
   "nbconvert_exporter": "python",
   "pygments_lexer": "ipython3",
   "version": "3.9.7"
  }
 },
 "nbformat": 4,
 "nbformat_minor": 5
}

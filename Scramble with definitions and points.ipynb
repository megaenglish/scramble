{
 "cells": [
  {
   "cell_type": "code",
   "execution_count": 14,
   "id": "f61f77db",
   "metadata": {},
   "outputs": [
    {
     "name": "stdout",
     "output_type": "stream",
     "text": [
      "How many words can you unscramble?3\n",
      "eoxprrel\n",
      "What is this word? (For a hint type '?')lkasjdf\n",
      "You lose\n",
      "oputinoacc\n",
      "What is this word? (For a hint type '?')?\n",
      "another word for job\n",
      "What is this word? occupation\n",
      "You win\n",
      "ehropgpthora\n",
      "What is this word? (For a hint type '?')photographer\n",
      "You win\n",
      "You got 2 right, 1 wrong, and used 1 hints.\n",
      "You scored 1 points out of a possible 6 points.\n"
     ]
    }
   ],
   "source": [
    "import random\n",
    "# Unit 1: Elementary\n",
    "\n",
    "word_list = [\"photographer\", \"journalist\", \"explorer\", \"filmmaker\", \"job\", \"occupation\", \"married\", \"single\", \"relationship\", \"wife\"]\n",
    "def_list = [\"A person who takes pictures with a camera\", \"A person who writes news stories\", \"A person who travels, usually to search for scientific or geographic information\",\n",
    "            \"A person who produces movies\", \"work that's paid\", \"another word for job\", \"having a husdand or wife\", \"not in a relationship\",\n",
    "            \"a connection between two people\", \"the title of a woman in a marriage\"]\n",
    "\n",
    "# Variables to track points, number correct, number wrong, and how many times user asked for a hint\n",
    "right = 0\n",
    "wrong = 0\n",
    "check = 0\n",
    "hint = 0\n",
    "points = 0\n",
    "\n",
    "# Checks for a number input when asking how many rounds\n",
    "def roundcheck(rounds):\n",
    "    good_answer = 0\n",
    "    if rounds.isdigit():\n",
    "        good_answer = 1\n",
    "    else:\n",
    "        good_answer = 0\n",
    "    return good_answer\n",
    "        \n",
    "while check == 0:\n",
    "    rounds = input(\"How many words can you unscramble?\")\n",
    "    check = roundcheck(rounds)\n",
    "    if check == 0:\n",
    "        print(\"Your answer is gibberish.  Try again.\")\n",
    "    else:\n",
    "        rounds = int(rounds)\n",
    "\n",
    "# Core game program\n",
    "for i in range(0,rounds):\n",
    "    word = random.choice(word_list)\n",
    "    scrambled_word = ''.join(random.sample(word,len(word)))\n",
    "    print(scrambled_word)\n",
    "    answer = input(\"What is this word? (For a hint type '?')\")\n",
    "    if answer == \"?\":\n",
    "        print(def_list[word_list.index(word)])\n",
    "        answer = input(\"What is this word? \")\n",
    "        hint += 1\n",
    "        points -= 1\n",
    "    if answer.lower() == word:\n",
    "        print(\"You win\")\n",
    "        right += 1\n",
    "        points += 2\n",
    "    else:\n",
    "        print(\"You lose\")\n",
    "        wrong += 1\n",
    "        points -= 2\n",
    "\n",
    "print (f\"You got {right} right, {wrong} wrong, and used {hint} hints.\")\n",
    "print(f\"You scored {points} out of a possible {rounds*2} points.\")"
   ]
  },
  {
   "cell_type": "code",
   "execution_count": 6,
   "id": "cc5fbfda",
   "metadata": {},
   "outputs": [
    {
     "name": "stdout",
     "output_type": "stream",
     "text": [
      "['__add__', '__class__', '__class_getitem__', '__contains__', '__delattr__', '__delitem__', '__dir__', '__doc__', '__eq__', '__format__', '__ge__', '__getattribute__', '__getitem__', '__gt__', '__hash__', '__iadd__', '__imul__', '__init__', '__init_subclass__', '__iter__', '__le__', '__len__', '__lt__', '__mul__', '__ne__', '__new__', '__reduce__', '__reduce_ex__', '__repr__', '__reversed__', '__rmul__', '__setattr__', '__setitem__', '__sizeof__', '__str__', '__subclasshook__', 'append', 'clear', 'copy', 'count', 'extend', 'index', 'insert', 'pop', 'remove', 'reverse', 'sort']\n"
     ]
    }
   ],
   "source": [
    "print(dir(word_list))"
   ]
  },
  {
   "cell_type": "code",
   "execution_count": null,
   "id": "25e0c8f6",
   "metadata": {},
   "outputs": [],
   "source": [
    "word_list.index"
   ]
  }
 ],
 "metadata": {
  "kernelspec": {
   "display_name": "Python 3 (ipykernel)",
   "language": "python",
   "name": "python3"
  },
  "language_info": {
   "codemirror_mode": {
    "name": "ipython",
    "version": 3
   },
   "file_extension": ".py",
   "mimetype": "text/x-python",
   "name": "python",
   "nbconvert_exporter": "python",
   "pygments_lexer": "ipython3",
   "version": "3.9.7"
  }
 },
 "nbformat": 4,
 "nbformat_minor": 5
}
